{
 "cells": [
  {
   "cell_type": "code",
   "execution_count": null,
   "metadata": {},
   "outputs": [],
   "source": [
    "url = 'https://www.buzzfeed.com/meghara/facebook-vietnam-mark-zuckerberg?utm_term=.pwL62VK4M#.ig3gB6LkQ'"
   ]
  },
  {
   "cell_type": "code",
   "execution_count": null,
   "metadata": {},
   "outputs": [],
   "source": [
    "# import libraries\n",
    "from urllib.parse import urlparse\n",
    "from urllib.parse import urljoin\n",
    "from urllib.request import urlopen\n",
    "from bs4 import BeautifulSoup"
   ]
  },
  {
   "cell_type": "code",
   "execution_count": null,
   "metadata": {},
   "outputs": [],
   "source": [
    "o = urlparse(url)\n",
    "domain = f\"{o.scheme}://{o.netloc}/\"\n",
    "domain"
   ]
  },
  {
   "cell_type": "code",
   "execution_count": null,
   "metadata": {},
   "outputs": [],
   "source": [
    "o.path"
   ]
  },
  {
   "cell_type": "code",
   "execution_count": null,
   "metadata": {},
   "outputs": [],
   "source": [
    "with urlopen(url) as page:\n",
    "    soup = BeautifulSoup(page, 'html.parser')\n",
    "hrefs = [urljoin(url, a.attrs['href']) for a in soup.findAll('a')]\n",
    "hrefs = [href for href in hrefs if href.startswith(domain)]"
   ]
  },
  {
   "cell_type": "code",
   "execution_count": null,
   "metadata": {},
   "outputs": [],
   "source": [
    "hrefs = set(hrefs)"
   ]
  },
  {
   "cell_type": "code",
   "execution_count": null,
   "metadata": {},
   "outputs": [],
   "source": [
    "hrefs"
   ]
  },
  {
   "cell_type": "code",
   "execution_count": null,
   "metadata": {},
   "outputs": [],
   "source": [
    "import re\n",
    "def _lengths(url):\n",
    "    '''\n",
    "    Return the length of an URL according to a few heuristics that aim at\n",
    "    capturing the \"listing-ness\" of a page (the shorter an URL, the more likely\n",
    "    it is a listing page). \n",
    "    '''\n",
    "    o = urlparse(url)\n",
    "    path_len = o.path.count('/')\n",
    "    word_len = len(re.findall(r'[\\w\\d]+', url))\n",
    "    char_len = len(url)\n",
    "    return (path_len, word_len, char_len)\n",
    "    "
   ]
  },
  {
   "cell_type": "code",
   "execution_count": null,
   "metadata": {},
   "outputs": [],
   "source": [
    "sorted([(_lengths(url), url) for url in hrefs])"
   ]
  },
  {
   "cell_type": "code",
   "execution_count": null,
   "metadata": {},
   "outputs": [],
   "source": [
    "list(hrefs)[:1000]"
   ]
  },
  {
   "cell_type": "code",
   "execution_count": null,
   "metadata": {},
   "outputs": [],
   "source": []
  }
 ],
 "metadata": {
  "kernelspec": {
   "display_name": "Python 3",
   "language": "python",
   "name": "python3"
  },
  "language_info": {
   "codemirror_mode": {
    "name": "ipython",
    "version": 3
   },
   "file_extension": ".py",
   "mimetype": "text/x-python",
   "name": "python",
   "nbconvert_exporter": "python",
   "pygments_lexer": "ipython3",
   "version": "3.6.2"
  }
 },
 "nbformat": 4,
 "nbformat_minor": 2
}
