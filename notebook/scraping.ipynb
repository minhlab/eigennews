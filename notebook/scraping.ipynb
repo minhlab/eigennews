{
 "cells": [
  {
   "cell_type": "code",
   "execution_count": null,
   "metadata": {},
   "outputs": [],
   "source": [
    "import os, sys\n",
    "if '/notebook' in os.getcwd():\n",
    "    os.chdir('..')\n",
    "if '.' not in sys.path:\n",
    "    sys.path.append('.')"
   ]
  },
  {
   "cell_type": "code",
   "execution_count": null,
   "metadata": {},
   "outputs": [],
   "source": [
    "# import libraries\n",
    "from urllib.request import urlopen\n",
    "from bs4 import BeautifulSoup"
   ]
  },
  {
   "cell_type": "markdown",
   "metadata": {},
   "source": [
    "## Question-answering sites"
   ]
  },
  {
   "cell_type": "code",
   "execution_count": null,
   "metadata": {},
   "outputs": [],
   "source": [
    "url = 'https://stackexchange.com/sites?view=list'\n",
    "with urlopen(url) as page:\n",
    "    soup = BeautifulSoup(page, 'html.parser')\n",
    "divs = soup.findAll('div', attrs= {'class': 'lv-info'})    \n",
    "links = [div.find('a').attrs['href'] for div in divs]    \n",
    "domains = [link.replace('https://', '') for link in links]"
   ]
  },
  {
   "cell_type": "markdown",
   "metadata": {},
   "source": [
    "## Online news papers"
   ]
  },
  {
   "cell_type": "code",
   "execution_count": null,
   "metadata": {},
   "outputs": [],
   "source": [
    "newspaperindex_url = 'https://www.newspaperindex.com'\n",
    "\n",
    "def newspaperindex_extract_links(url):\n",
    "    with urlopen(url) as page:\n",
    "        soup = BeautifulSoup(page, 'html.parser')\n",
    "    link_list = soup.find('div', attrs= {'class': 'cList'})\n",
    "    links = [a.attrs['href'] for a in link_list.findAll('a')]\n",
    "    links = [link if link.startswith('http') \n",
    "             else newspaperindex_url + link\n",
    "             for link in links]\n",
    "    return links"
   ]
  },
  {
   "cell_type": "code",
   "execution_count": null,
   "metadata": {},
   "outputs": [],
   "source": [
    "country_links = [country_link for country_link in newspaperindex_extract_links(newspaperindex_url)]"
   ]
  },
  {
   "cell_type": "code",
   "execution_count": null,
   "metadata": {},
   "outputs": [],
   "source": [
    "from tqdm import tqdm\n",
    "newspaper_links = [link for country_link in tqdm(country_links)\n",
    "                   for link in newspaperindex_extract_links(country_link)]"
   ]
  },
  {
   "cell_type": "code",
   "execution_count": null,
   "metadata": {},
   "outputs": [],
   "source": [
    "re.match(r'((?:[^./]+\\.)+[^./]+)', 'khaama.com')"
   ]
  },
  {
   "cell_type": "code",
   "execution_count": null,
   "metadata": {},
   "outputs": [],
   "source": [
    "import re\n",
    "newspaper_links = [re.sub(r'^https?://(www\\.)?', '', link) for link in newspaper_links]"
   ]
  },
  {
   "cell_type": "code",
   "execution_count": null,
   "metadata": {},
   "outputs": [],
   "source": [
    "newspaper_domains = set(re.match(r'(?:[^./]+\\.)+[^./]+', link).group()\n",
    "                        for link in newspaper_links)"
   ]
  },
  {
   "cell_type": "markdown",
   "metadata": {},
   "source": [
    "## Exploring unscraped URLs"
   ]
  },
  {
   "cell_type": "code",
   "execution_count": null,
   "metadata": {},
   "outputs": [],
   "source": [
    "from db import connect_db\n",
    "conn = connect_db()\n",
    "c = conn.cursor()"
   ]
  },
  {
   "cell_type": "code",
   "execution_count": null,
   "metadata": {},
   "outputs": [],
   "source": [
    "#c.execute(f'UPDATE {visited_pages_table} SET processed = 0')\n",
    "#conn.commit()"
   ]
  },
  {
   "cell_type": "code",
   "execution_count": null,
   "metadata": {},
   "outputs": [],
   "source": [
    "c.execute(f'SELECT url from {visited_pages_table} WHERE processed = 0')\n",
    "urls = [row['url'] for row in c.fetchall()]"
   ]
  },
  {
   "cell_type": "code",
   "execution_count": null,
   "metadata": {},
   "outputs": [],
   "source": [
    "len(urls)"
   ]
  },
  {
   "cell_type": "code",
   "execution_count": null,
   "metadata": {},
   "outputs": [],
   "source": [
    "import re\n",
    "matchers = (re.match(r'https?://(?:[\\d\\w]+\\.)+com/', url) for url in urls)\n",
    "prefixes = (m.group() for m in matchers if m)\n",
    "from collections import Counter\n",
    "Counter(prefixes).most_common(5)"
   ]
  },
  {
   "cell_type": "code",
   "execution_count": null,
   "metadata": {},
   "outputs": [],
   "source": [
    "url = 'https://www.bbc.com/sport/football/44595251'\n",
    "from newspaper import Article\n",
    "article = Article(url)\n",
    "article.download()\n",
    "article.parse()\n",
    "print(article.authors)\n",
    "print(article.publish_date)\n",
    "print(article.top_image)\n",
    "print(article.movies)\n",
    "article.nlp()\n",
    "print(article.keywords)\n",
    "print(article.summary)"
   ]
  },
  {
   "cell_type": "code",
   "execution_count": null,
   "metadata": {},
   "outputs": [],
   "source": []
  }
 ],
 "metadata": {
  "kernelspec": {
   "display_name": "Python 3",
   "language": "python",
   "name": "python3"
  },
  "language_info": {
   "codemirror_mode": {
    "name": "ipython",
    "version": 3
   },
   "file_extension": ".py",
   "mimetype": "text/x-python",
   "name": "python",
   "nbconvert_exporter": "python",
   "pygments_lexer": "ipython3",
   "version": "3.6.2"
  }
 },
 "nbformat": 4,
 "nbformat_minor": 2
}
